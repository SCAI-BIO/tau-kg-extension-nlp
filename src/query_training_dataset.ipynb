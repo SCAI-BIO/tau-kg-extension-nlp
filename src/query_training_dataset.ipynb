{
 "cells": [
  {
   "cell_type": "code",
   "execution_count": 5,
   "source": [
    "import pandas as pd\r\n",
    "from collections import Counter\r\n",
    "\r\n",
    "bel_triple_excel_path = \"PATH_TO_NLP_training_triples_from_bms.xlsx\""
   ],
   "outputs": [],
   "metadata": {}
  },
  {
   "cell_type": "code",
   "execution_count": 8,
   "source": [
    "triple_df = pd.read_excel(bel_triple_excel_path)\r\n",
    "triple_df.head()\r\n",
    "print(len(triple_df))"
   ],
   "outputs": [
    {
     "output_type": "stream",
     "name": "stdout",
     "text": [
      "45992\n"
     ]
    }
   ],
   "metadata": {}
  },
  {
   "cell_type": "code",
   "execution_count": 7,
   "source": [
    "unique_triples = set()\r\n",
    "unique_nodes = set()\r\n",
    "for row in triple_df.itertuples(index=False):\r\n",
    "    subj, rel, obj, evid, pmid, doc = row\r\n",
    "    triple = (subj, rel, obj)\r\n",
    "    \r\n",
    "    unique_nodes.add(subj)\r\n",
    "    unique_nodes.add(obj)\r\n",
    "    unique_triples.add(triple)\r\n",
    "    \r\n",
    "print(f\"Number of nodes: {len(unique_nodes)}\")\r\n",
    "print(f\"Number of triples: {len(unique_triples)}\")\r\n",
    "print(f\"Number of PMIDs: {len(triple_df.pmid.unique())}\")\r\n",
    "Counter(triple_df.relation)"
   ],
   "outputs": [
    {
     "output_type": "stream",
     "name": "stdout",
     "text": [
      "Number of nodes: 17400\n",
      "Number of triples: 39099\n",
      "Number of PMIDs: 2750\n"
     ]
    },
    {
     "output_type": "execute_result",
     "data": {
      "text/plain": [
       "Counter({'increases': 16370,\n",
       "         'directly_increases': 475,\n",
       "         'decreases': 8376,\n",
       "         'directly_decreases': 157,\n",
       "         'causes_no_change': 1092,\n",
       "         'regulates': 1794,\n",
       "         'negative_correlation': 3001,\n",
       "         'positive_correlation': 5425,\n",
       "         'association': 8342,\n",
       "         'orthologous': 56,\n",
       "         'has_member': 26,\n",
       "         'has_members': 70,\n",
       "         'has_components': 41,\n",
       "         'equivalent_to': 5,\n",
       "         'is_a': 621,\n",
       "         'has_component': 5,\n",
       "         'translated_to': 13,\n",
       "         'has_variant': 95,\n",
       "         'biomarker_for': 28})"
      ]
     },
     "metadata": {},
     "execution_count": 7
    }
   ],
   "metadata": {}
  },
  {
   "cell_type": "code",
   "execution_count": null,
   "source": [],
   "outputs": [],
   "metadata": {}
  }
 ],
 "metadata": {
  "kernelspec": {
   "name": "python3",
   "display_name": "Python 3.7.9 64-bit"
  },
  "language_info": {
   "codemirror_mode": {
    "name": "ipython",
    "version": 3
   },
   "file_extension": ".py",
   "mimetype": "text/x-python",
   "name": "python",
   "nbconvert_exporter": "python",
   "pygments_lexer": "ipython3",
   "version": "3.7.9"
  },
  "interpreter": {
   "hash": "0600588c3b5f4418cbe7b5ebc6825b479f3bc010269d8b60d75058cdd010adfe"
  }
 },
 "nbformat": 4,
 "nbformat_minor": 5
}