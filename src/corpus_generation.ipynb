{
 "cells": [
  {
   "cell_type": "code",
   "execution_count": 3,
   "source": [
    "import urllib\r\n",
    "import requests\r\n",
    "import pandas as pd\r\n",
    "import re\r\n",
    "import xmltodict\r\n"
   ],
   "outputs": [],
   "metadata": {}
  },
  {
   "cell_type": "code",
   "execution_count": 4,
   "source": [
    "# Fetch pmids\r\n",
    "#Common setting between esearch and efetch\r\n",
    "base_url = 'http://eutils.ncbi.nlm.nih.gov/entrez/eutils/'\r\n",
    "db = 'db=pubmed'\r\n",
    "query_list = ['tau','tau+phosphorylation','tau+phosphorylation+post-translational+modification']\r\n",
    "mindate = 2020\r\n",
    "maxdate = 2022\r\n",
    "final_ids = []\r\n",
    "query_ids = []\r\n",
    "\r\n",
    "for item in query_list:\r\n",
    "    query = item\r\n",
    "    print(\"searching query about:\", query)\r\n",
    "    # esearch specific settings\r\n",
    "    search_eutil = 'esearch.fcgi?'\r\n",
    "    search_term = '&term=' + query\r\n",
    "    search_usehistory = '&usehistory=y'\r\n",
    "    search_rettype = '&rettype=xml'\r\n",
    "    search_date = '+2022[pdat]'\r\n",
    "    search_retmax ='&retmax=100000000'\r\n",
    "    search_mindate = '&mindate='+str(mindate)\r\n",
    "    search_maxdate = '&maxdate='+str(maxdate)\r\n",
    "    #Create search url\r\n",
    "    search_url = base_url+search_eutil+db+search_term+search_mindate+search_maxdate+search_usehistory+search_retmax+search_rettype\r\n",
    "    f = urllib.request.urlopen(search_url)\r\n",
    "    print(\"Search URL\",search_url)\r\n",
    "    search_data = f.read().decode('utf-8')\r\n",
    "    #print(search_data)\r\n",
    "\r\n",
    "    #Fetch PMids and print in XML format and convert it to Dictionary\r\n",
    "    from xml.etree import ElementTree\r\n",
    "    import xmltodict\r\n",
    "    import numpy as np\r\n",
    "    search_data_xml = requests.get(search_url)\r\n",
    "    dict_data = xmltodict.parse(search_data_xml.content)\r\n",
    "    \r\n",
    "    # Extract pmIDs from response dictionary\r\n",
    "    IdList_dict = dict_data[\"eSearchResult\"][\"IdList\"]\r\n",
    "    IdList = (IdList_dict.values())\r\n",
    "    IdList = list(IdList)\r\n",
    "    IdList = np.asarray(IdList[0])\r\n",
    "    print(\"Length of pmids per this query\",len(IdList))\r\n",
    "    final_ids.append(IdList)\r\n",
    "    #Save pmids of each query in an excell sheet\r\n",
    "    with open(query+'.txt', 'w') as f:\r\n",
    "        for item in IdList:\r\n",
    "            f.write(\"%s\\n\" % item)\r\n",
    "    \r\n"
   ],
   "outputs": [
    {
     "output_type": "stream",
     "name": "stdout",
     "text": [
      "searching query about: tau\n",
      "Search URL http://eutils.ncbi.nlm.nih.gov/entrez/eutils/esearch.fcgi?db=pubmed&term=tau&mindate=2020&maxdate=2022&usehistory=y&retmax=100000000&rettype=xml\n",
      "Length of pmids per this query 11743\n",
      "searching query about: tau+phosphorylation\n",
      "Search URL http://eutils.ncbi.nlm.nih.gov/entrez/eutils/esearch.fcgi?db=pubmed&term=tau+phosphorylation&mindate=2020&maxdate=2022&usehistory=y&retmax=100000000&rettype=xml\n",
      "Length of pmids per this query 1196\n",
      "searching query about: tau+phosphorylation+post-translational+modification\n",
      "Search URL http://eutils.ncbi.nlm.nih.gov/entrez/eutils/esearch.fcgi?db=pubmed&term=tau+phosphorylation+post-translational+modification&mindate=2020&maxdate=2022&usehistory=y&retmax=100000000&rettype=xml\n",
      "Length of pmids per this query 65\n"
     ]
    }
   ],
   "metadata": {}
  },
  {
   "cell_type": "code",
   "execution_count": 5,
   "source": [
    "# Get intersection of searches using different keywords\r\n",
    "intersection = [] \r\n",
    "#print(len(final_ids))\r\n",
    "# When we have only one keyword query\r\n",
    "if (len(final_ids) == 1):\r\n",
    "     intersection_all = final_ids[0]\r\n",
    "\r\n",
    "\r\n",
    "else:\r\n",
    "    intersection_all = final_ids[0] #put first imput in intersection\r\n",
    "    for i in range (0,len(final_ids)):\r\n",
    "        intersection = set(intersection_all).intersection(set(final_ids[i]))\r\n",
    "        intersection_all = intersection\r\n",
    "\r\n",
    "\r\n",
    "intersection = intersection_all\r\n",
    "intersection = list(intersection)\r\n",
    "print(\"Length of intersection of pmids\")\r\n",
    "print(len(intersection))\r\n",
    "\r\n",
    "\r\n"
   ],
   "outputs": [
    {
     "output_type": "stream",
     "name": "stdout",
     "text": [
      "Length of intersection of pmids\n",
      "65\n"
     ]
    }
   ],
   "metadata": {}
  },
  {
   "cell_type": "code",
   "execution_count": null,
   "source": [],
   "outputs": [],
   "metadata": {}
  },
  {
   "cell_type": "code",
   "execution_count": null,
   "source": [],
   "outputs": [],
   "metadata": {}
  }
 ],
 "metadata": {
  "orig_nbformat": 4,
  "language_info": {
   "name": "python",
   "version": "3.7.9",
   "mimetype": "text/x-python",
   "codemirror_mode": {
    "name": "ipython",
    "version": 3
   },
   "pygments_lexer": "ipython3",
   "nbconvert_exporter": "python",
   "file_extension": ".py"
  },
  "kernelspec": {
   "name": "python3",
   "display_name": "Python 3.7.9 64-bit"
  },
  "interpreter": {
   "hash": "0600588c3b5f4418cbe7b5ebc6825b479f3bc010269d8b60d75058cdd010adfe"
  }
 },
 "nbformat": 4,
 "nbformat_minor": 2
}